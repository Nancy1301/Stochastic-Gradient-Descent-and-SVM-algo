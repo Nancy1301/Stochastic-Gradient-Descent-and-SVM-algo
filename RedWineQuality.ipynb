{
  "nbformat": 4,
  "nbformat_minor": 0,
  "metadata": {
    "colab": {
      "name": "RedWineQuality.ipynb",
      "provenance": [],
      "toc_visible": true
    },
    "kernelspec": {
      "display_name": "Python 3",
      "name": "python3"
    }
  },
  "cells": [
    {
      "cell_type": "markdown",
      "metadata": {
        "id": "31sm9kmf2XwO"
      },
      "source": [
        "# Prediction of Quality of Wine\r\n",
        "Firstly, I have done some exploration on the data using matplotlib and seaborn. Then, I use different classifier models to predict the quality of the wine.\r\n",
        "\r\n",
        "1. Stochastic Gradient Descent Classifier\r\n",
        "2. Support Vector Classifier(SVC)\r\n"
      ]
    },
    {
      "cell_type": "markdown",
      "metadata": {
        "id": "OXmj92V92xzY"
      },
      "source": [
        "Importing all the required libraries"
      ]
    },
    {
      "cell_type": "code",
      "metadata": {
        "id": "VbXS5Z8ufsX9"
      },
      "source": [
        "import numpy as np\r\n",
        "import pandas as pd\r\n",
        "import matplotlib.pyplot as plt\r\n",
        "import seaborn as sns\r\n",
        "from sklearn.tree import DecisionTreeRegressor, plot_tree # importing this class for classfying using Decision Tree.\r\n",
        "from sklearn.model_selection import GridSearchCV\r\n",
        "from sklearn.model_selection import train_test_split\r\n",
        "from sklearn.metrics import mean_squared_error\r\n",
        "from sklearn.metrics import accuracy_score\r\n",
        "from sklearn.linear_model import LinearRegression\r\n",
        "from math import sqrt\r\n",
        "import seaborn as sns\r\n",
        "from sklearn.ensemble import RandomForestClassifier\r\n",
        "from sklearn.svm import SVC\r\n",
        "from sklearn.linear_model import SGDClassifier\r\n",
        "from sklearn.metrics import confusion_matrix, classification_report\r\n",
        "from sklearn.preprocessing import StandardScaler, LabelEncoder\r\n",
        "from sklearn.model_selection import cross_val_score\r\n",
        "%matplotlib inline"
      ],
      "execution_count": 1,
      "outputs": []
    },
    {
      "cell_type": "code",
      "metadata": {
        "colab": {
          "base_uri": "https://localhost:8080/",
          "height": 360
        },
        "id": "eCcruGgUgcgB",
        "outputId": "975f31c4-7c59-47b7-e648-3176e98c61e7"
      },
      "source": [
        "data = pd.read_csv('winequality-red.csv')\r\n",
        "data.head(10)"
      ],
      "execution_count": 2,
      "outputs": [
        {
          "output_type": "execute_result",
          "data": {
            "text/html": [
              "<div>\n",
              "<style scoped>\n",
              "    .dataframe tbody tr th:only-of-type {\n",
              "        vertical-align: middle;\n",
              "    }\n",
              "\n",
              "    .dataframe tbody tr th {\n",
              "        vertical-align: top;\n",
              "    }\n",
              "\n",
              "    .dataframe thead th {\n",
              "        text-align: right;\n",
              "    }\n",
              "</style>\n",
              "<table border=\"1\" class=\"dataframe\">\n",
              "  <thead>\n",
              "    <tr style=\"text-align: right;\">\n",
              "      <th></th>\n",
              "      <th>fixed acidity</th>\n",
              "      <th>volatile acidity</th>\n",
              "      <th>citric acid</th>\n",
              "      <th>residual sugar</th>\n",
              "      <th>chlorides</th>\n",
              "      <th>free sulfur dioxide</th>\n",
              "      <th>total sulfur dioxide</th>\n",
              "      <th>density</th>\n",
              "      <th>pH</th>\n",
              "      <th>sulphates</th>\n",
              "      <th>alcohol</th>\n",
              "      <th>quality</th>\n",
              "    </tr>\n",
              "  </thead>\n",
              "  <tbody>\n",
              "    <tr>\n",
              "      <th>0</th>\n",
              "      <td>7.4</td>\n",
              "      <td>0.70</td>\n",
              "      <td>0.00</td>\n",
              "      <td>1.9</td>\n",
              "      <td>0.076</td>\n",
              "      <td>11.0</td>\n",
              "      <td>34.0</td>\n",
              "      <td>0.9978</td>\n",
              "      <td>3.51</td>\n",
              "      <td>0.56</td>\n",
              "      <td>9.4</td>\n",
              "      <td>5</td>\n",
              "    </tr>\n",
              "    <tr>\n",
              "      <th>1</th>\n",
              "      <td>7.8</td>\n",
              "      <td>0.88</td>\n",
              "      <td>0.00</td>\n",
              "      <td>2.6</td>\n",
              "      <td>0.098</td>\n",
              "      <td>25.0</td>\n",
              "      <td>67.0</td>\n",
              "      <td>0.9968</td>\n",
              "      <td>3.20</td>\n",
              "      <td>0.68</td>\n",
              "      <td>9.8</td>\n",
              "      <td>5</td>\n",
              "    </tr>\n",
              "    <tr>\n",
              "      <th>2</th>\n",
              "      <td>7.8</td>\n",
              "      <td>0.76</td>\n",
              "      <td>0.04</td>\n",
              "      <td>2.3</td>\n",
              "      <td>0.092</td>\n",
              "      <td>15.0</td>\n",
              "      <td>54.0</td>\n",
              "      <td>0.9970</td>\n",
              "      <td>3.26</td>\n",
              "      <td>0.65</td>\n",
              "      <td>9.8</td>\n",
              "      <td>5</td>\n",
              "    </tr>\n",
              "    <tr>\n",
              "      <th>3</th>\n",
              "      <td>11.2</td>\n",
              "      <td>0.28</td>\n",
              "      <td>0.56</td>\n",
              "      <td>1.9</td>\n",
              "      <td>0.075</td>\n",
              "      <td>17.0</td>\n",
              "      <td>60.0</td>\n",
              "      <td>0.9980</td>\n",
              "      <td>3.16</td>\n",
              "      <td>0.58</td>\n",
              "      <td>9.8</td>\n",
              "      <td>6</td>\n",
              "    </tr>\n",
              "    <tr>\n",
              "      <th>4</th>\n",
              "      <td>7.4</td>\n",
              "      <td>0.70</td>\n",
              "      <td>0.00</td>\n",
              "      <td>1.9</td>\n",
              "      <td>0.076</td>\n",
              "      <td>11.0</td>\n",
              "      <td>34.0</td>\n",
              "      <td>0.9978</td>\n",
              "      <td>3.51</td>\n",
              "      <td>0.56</td>\n",
              "      <td>9.4</td>\n",
              "      <td>5</td>\n",
              "    </tr>\n",
              "    <tr>\n",
              "      <th>5</th>\n",
              "      <td>7.4</td>\n",
              "      <td>0.66</td>\n",
              "      <td>0.00</td>\n",
              "      <td>1.8</td>\n",
              "      <td>0.075</td>\n",
              "      <td>13.0</td>\n",
              "      <td>40.0</td>\n",
              "      <td>0.9978</td>\n",
              "      <td>3.51</td>\n",
              "      <td>0.56</td>\n",
              "      <td>9.4</td>\n",
              "      <td>5</td>\n",
              "    </tr>\n",
              "    <tr>\n",
              "      <th>6</th>\n",
              "      <td>7.9</td>\n",
              "      <td>0.60</td>\n",
              "      <td>0.06</td>\n",
              "      <td>1.6</td>\n",
              "      <td>0.069</td>\n",
              "      <td>15.0</td>\n",
              "      <td>59.0</td>\n",
              "      <td>0.9964</td>\n",
              "      <td>3.30</td>\n",
              "      <td>0.46</td>\n",
              "      <td>9.4</td>\n",
              "      <td>5</td>\n",
              "    </tr>\n",
              "    <tr>\n",
              "      <th>7</th>\n",
              "      <td>7.3</td>\n",
              "      <td>0.65</td>\n",
              "      <td>0.00</td>\n",
              "      <td>1.2</td>\n",
              "      <td>0.065</td>\n",
              "      <td>15.0</td>\n",
              "      <td>21.0</td>\n",
              "      <td>0.9946</td>\n",
              "      <td>3.39</td>\n",
              "      <td>0.47</td>\n",
              "      <td>10.0</td>\n",
              "      <td>7</td>\n",
              "    </tr>\n",
              "    <tr>\n",
              "      <th>8</th>\n",
              "      <td>7.8</td>\n",
              "      <td>0.58</td>\n",
              "      <td>0.02</td>\n",
              "      <td>2.0</td>\n",
              "      <td>0.073</td>\n",
              "      <td>9.0</td>\n",
              "      <td>18.0</td>\n",
              "      <td>0.9968</td>\n",
              "      <td>3.36</td>\n",
              "      <td>0.57</td>\n",
              "      <td>9.5</td>\n",
              "      <td>7</td>\n",
              "    </tr>\n",
              "    <tr>\n",
              "      <th>9</th>\n",
              "      <td>7.5</td>\n",
              "      <td>0.50</td>\n",
              "      <td>0.36</td>\n",
              "      <td>6.1</td>\n",
              "      <td>0.071</td>\n",
              "      <td>17.0</td>\n",
              "      <td>102.0</td>\n",
              "      <td>0.9978</td>\n",
              "      <td>3.35</td>\n",
              "      <td>0.80</td>\n",
              "      <td>10.5</td>\n",
              "      <td>5</td>\n",
              "    </tr>\n",
              "  </tbody>\n",
              "</table>\n",
              "</div>"
            ],
            "text/plain": [
              "   fixed acidity  volatile acidity  citric acid  ...  sulphates  alcohol  quality\n",
              "0            7.4              0.70         0.00  ...       0.56      9.4        5\n",
              "1            7.8              0.88         0.00  ...       0.68      9.8        5\n",
              "2            7.8              0.76         0.04  ...       0.65      9.8        5\n",
              "3           11.2              0.28         0.56  ...       0.58      9.8        6\n",
              "4            7.4              0.70         0.00  ...       0.56      9.4        5\n",
              "5            7.4              0.66         0.00  ...       0.56      9.4        5\n",
              "6            7.9              0.60         0.06  ...       0.46      9.4        5\n",
              "7            7.3              0.65         0.00  ...       0.47     10.0        7\n",
              "8            7.8              0.58         0.02  ...       0.57      9.5        7\n",
              "9            7.5              0.50         0.36  ...       0.80     10.5        5\n",
              "\n",
              "[10 rows x 12 columns]"
            ]
          },
          "metadata": {
            "tags": []
          },
          "execution_count": 2
        }
      ]
    },
    {
      "cell_type": "markdown",
      "metadata": {
        "id": "DwjxjYn1gwMk"
      },
      "source": [
        "# Using Regression, we will predict its quality lying between 0-10."
      ]
    },
    {
      "cell_type": "code",
      "metadata": {
        "id": "Uf-hs2t5lPEX"
      },
      "source": [
        "features = ['fixed acidity','volatile acidity','citric acid','residual sugar','chlorides',\r\n",
        "            'free sulfur dioxide','total sulfur dioxide','density','pH','sulphates','alcohol']"
      ],
      "execution_count": 3,
      "outputs": []
    },
    {
      "cell_type": "code",
      "metadata": {
        "id": "8Urzrr-SlO6c"
      },
      "source": [
        "target = ['quality']"
      ],
      "execution_count": 4,
      "outputs": []
    },
    {
      "cell_type": "code",
      "metadata": {
        "colab": {
          "base_uri": "https://localhost:8080/"
        },
        "id": "jzxZ0MTMlnvD",
        "outputId": "b66ee6df-2f1a-4523-f30d-7f2098d68881"
      },
      "source": [
        "data.isnull().any() # checking for any null values, if there"
      ],
      "execution_count": 5,
      "outputs": [
        {
          "output_type": "execute_result",
          "data": {
            "text/plain": [
              "fixed acidity           False\n",
              "volatile acidity        False\n",
              "citric acid             False\n",
              "residual sugar          False\n",
              "chlorides               False\n",
              "free sulfur dioxide     False\n",
              "total sulfur dioxide    False\n",
              "density                 False\n",
              "pH                      False\n",
              "sulphates               False\n",
              "alcohol                 False\n",
              "quality                 False\n",
              "dtype: bool"
            ]
          },
          "metadata": {
            "tags": []
          },
          "execution_count": 5
        }
      ]
    },
    {
      "cell_type": "code",
      "metadata": {
        "id": "U6ONwNfTmAxJ"
      },
      "source": [
        "x = data[features]\r\n",
        "y = data[target]"
      ],
      "execution_count": 6,
      "outputs": []
    },
    {
      "cell_type": "code",
      "metadata": {
        "id": "WbO7csshkJ8B"
      },
      "source": [
        "x_train, x_test, y_train, y_test = train_test_split(x, y, test_size=0.33, random_state=200) #splitting into traain and test data"
      ],
      "execution_count": 7,
      "outputs": []
    },
    {
      "cell_type": "code",
      "metadata": {
        "colab": {
          "base_uri": "https://localhost:8080/"
        },
        "id": "wF4q156RkUe8",
        "outputId": "747b4f3d-c0af-4873-b292-eb431d0b622e"
      },
      "source": [
        "regressor = LinearRegression()\r\n",
        "regressor.fit(x_train, y_train) # fitting the training data"
      ],
      "execution_count": 8,
      "outputs": [
        {
          "output_type": "execute_result",
          "data": {
            "text/plain": [
              "LinearRegression(copy_X=True, fit_intercept=True, n_jobs=None, normalize=False)"
            ]
          },
          "metadata": {
            "tags": []
          },
          "execution_count": 8
        }
      ]
    },
    {
      "cell_type": "code",
      "metadata": {
        "colab": {
          "base_uri": "https://localhost:8080/"
        },
        "id": "QP84Cs-kkqo3",
        "outputId": "e46c611c-59d1-4a1e-f0a9-b75dc2c1331d"
      },
      "source": [
        "y_prediction = regressor.predict(x_test)\r\n",
        "print(y_prediction[:5])\r\n",
        "print('*'*40)\r\n",
        "print(y_test[:5]) #Predicting the values on test data"
      ],
      "execution_count": 9,
      "outputs": [
        {
          "output_type": "stream",
          "text": [
            "[[5.6362557 ]\n",
            " [5.73580131]\n",
            " [5.51754284]\n",
            " [5.48101339]\n",
            " [5.69866009]]\n",
            "****************************************\n",
            "      quality\n",
            "366         7\n",
            "1325        6\n",
            "133         6\n",
            "1418        5\n",
            "1258        6\n"
          ],
          "name": "stdout"
        }
      ]
    },
    {
      "cell_type": "code",
      "metadata": {
        "colab": {
          "base_uri": "https://localhost:8080/"
        },
        "id": "wqoQAXeVmdAb",
        "outputId": "f7e48780-b5fe-42b5-c9fb-9a8aae2bb4bb"
      },
      "source": [
        "regressor = DecisionTreeRegressor(max_depth=10,min_samples_split=100)\r\n",
        "regressor.fit(x_train, y_train) # Using Decision Trees regressor"
      ],
      "execution_count": 10,
      "outputs": [
        {
          "output_type": "execute_result",
          "data": {
            "text/plain": [
              "DecisionTreeRegressor(ccp_alpha=0.0, criterion='mse', max_depth=10,\n",
              "                      max_features=None, max_leaf_nodes=None,\n",
              "                      min_impurity_decrease=0.0, min_impurity_split=None,\n",
              "                      min_samples_leaf=1, min_samples_split=100,\n",
              "                      min_weight_fraction_leaf=0.0, presort='deprecated',\n",
              "                      random_state=None, splitter='best')"
            ]
          },
          "metadata": {
            "tags": []
          },
          "execution_count": 10
        }
      ]
    },
    {
      "cell_type": "code",
      "metadata": {
        "colab": {
          "base_uri": "https://localhost:8080/"
        },
        "id": "wgpU3eD4nqI6",
        "outputId": "01b69508-397b-4f2a-bedd-ce959545f102"
      },
      "source": [
        "y_prediction = regressor.predict(x_test)\r\n",
        "print(y_prediction[:5]) #Perform prediction using decision tree regressor\r\n",
        "print(y_test)"
      ],
      "execution_count": 11,
      "outputs": [
        {
          "output_type": "stream",
          "text": [
            "[6.09756098 5.65882353 5.49166667 5.12048193 5.66666667]\n",
            "      quality\n",
            "366         7\n",
            "1325        6\n",
            "133         6\n",
            "1418        5\n",
            "1258        6\n",
            "...       ...\n",
            "26          5\n",
            "1257        6\n",
            "717         5\n",
            "1049        6\n",
            "202         5\n",
            "\n",
            "[528 rows x 1 columns]\n"
          ],
          "name": "stdout"
        }
      ]
    },
    {
      "cell_type": "code",
      "metadata": {
        "id": "3wP21PPprqa-"
      },
      "source": [
        "RMSE = sqrt(mean_squared_error(y_true=y_test, y_pred=y_prediction)) #using RMSE"
      ],
      "execution_count": 12,
      "outputs": []
    },
    {
      "cell_type": "code",
      "metadata": {
        "colab": {
          "base_uri": "https://localhost:8080/"
        },
        "id": "ck9d0k60sCpp",
        "outputId": "ad19ecc3-4d5a-4ccc-c847-a714fd8d1760"
      },
      "source": [
        "print(RMSE)"
      ],
      "execution_count": 13,
      "outputs": [
        {
          "output_type": "stream",
          "text": [
            "0.6377574835418577\n"
          ],
          "name": "stdout"
        }
      ]
    },
    {
      "cell_type": "markdown",
      "metadata": {
        "id": "vT_KrS0Ws9If"
      },
      "source": [
        "When comparing two or more regression models, then the model with small RMSE will be better."
      ]
    },
    {
      "cell_type": "markdown",
      "metadata": {
        "id": "LsUJWkvc26cX"
      },
      "source": [
        "Predicting with different values to check the results of our trained model"
      ]
    },
    {
      "cell_type": "code",
      "metadata": {
        "id": "gVnr6TDosE3p"
      },
      "source": [
        "predict = regressor.predict(np.array([7.8,0.76,0.04,2.3,0.092,15.0,54.0,0.9970,3.26,0.65,9.8]).reshape(1,-1))"
      ],
      "execution_count": 14,
      "outputs": []
    },
    {
      "cell_type": "code",
      "metadata": {
        "colab": {
          "base_uri": "https://localhost:8080/"
        },
        "id": "2OwNVOLXyXwn",
        "outputId": "f9537db2-c29c-4c9a-c0f2-4f3bf8072119"
      },
      "source": [
        "print(predict)"
      ],
      "execution_count": 15,
      "outputs": [
        {
          "output_type": "stream",
          "text": [
            "[5.12068966]\n"
          ],
          "name": "stdout"
        }
      ]
    },
    {
      "cell_type": "code",
      "metadata": {
        "id": "OW8OwQpoyxph"
      },
      "source": [
        "predict = regressor.predict(np.array([7.8,\t0.58,\t0.02,\t2.0,\t0.073,\t9.0,\t18.0,\t0.9968,\t3.36,\t0.57,\t9.5]).reshape(1,-1))"
      ],
      "execution_count": 16,
      "outputs": []
    },
    {
      "cell_type": "code",
      "metadata": {
        "colab": {
          "base_uri": "https://localhost:8080/"
        },
        "id": "8XiMEKVLzAD3",
        "outputId": "6b44bbe9-bbdc-4cd7-f45e-d2d0475fcbcf"
      },
      "source": [
        "print(predict)"
      ],
      "execution_count": 17,
      "outputs": [
        {
          "output_type": "stream",
          "text": [
            "[5.49166667]\n"
          ],
          "name": "stdout"
        }
      ]
    },
    {
      "cell_type": "markdown",
      "metadata": {
        "id": "fjvPviUd3Iq0"
      },
      "source": [
        "# Applying SGD classifier, to predict"
      ]
    },
    {
      "cell_type": "markdown",
      "metadata": {
        "id": "JVDzevJ03gqP"
      },
      "source": [
        "**Firstly, we are getting all the information of our dataset**"
      ]
    },
    {
      "cell_type": "code",
      "metadata": {
        "colab": {
          "base_uri": "https://localhost:8080/"
        },
        "id": "YFYdF3sX3Os5",
        "outputId": "2be529cf-afb9-4124-ae63-af34bca2ab6e"
      },
      "source": [
        "data.info()"
      ],
      "execution_count": 18,
      "outputs": [
        {
          "output_type": "stream",
          "text": [
            "<class 'pandas.core.frame.DataFrame'>\n",
            "RangeIndex: 1599 entries, 0 to 1598\n",
            "Data columns (total 12 columns):\n",
            " #   Column                Non-Null Count  Dtype  \n",
            "---  ------                --------------  -----  \n",
            " 0   fixed acidity         1599 non-null   float64\n",
            " 1   volatile acidity      1599 non-null   float64\n",
            " 2   citric acid           1599 non-null   float64\n",
            " 3   residual sugar        1599 non-null   float64\n",
            " 4   chlorides             1599 non-null   float64\n",
            " 5   free sulfur dioxide   1599 non-null   float64\n",
            " 6   total sulfur dioxide  1599 non-null   float64\n",
            " 7   density               1599 non-null   float64\n",
            " 8   pH                    1599 non-null   float64\n",
            " 9   sulphates             1599 non-null   float64\n",
            " 10  alcohol               1599 non-null   float64\n",
            " 11  quality               1599 non-null   int64  \n",
            "dtypes: float64(11), int64(1)\n",
            "memory usage: 150.0 KB\n"
          ],
          "name": "stdout"
        }
      ]
    },
    {
      "cell_type": "markdown",
      "metadata": {
        "id": "wjxzvJq_49uY"
      },
      "source": [
        "**Let's do some plotting to know how the data columns are distributed in the dataset**"
      ]
    },
    {
      "cell_type": "markdown",
      "metadata": {
        "id": "2N7U8YRJ722x"
      },
      "source": [
        "**Using the loops concept, we plotted graphs wrt to each feature with the quality to check which feature actually plays an important role to determine the quality.**"
      ]
    },
    {
      "cell_type": "code",
      "metadata": {
        "colab": {
          "base_uri": "https://localhost:8080/",
          "height": 1000
        },
        "id": "YazR-UDZ6vWh",
        "outputId": "3d6faee8-7ef9-4749-8599-64a777c75910"
      },
      "source": [
        "features = ['fixed acidity','volatile acidity','citric acid','residual sugar','chlorides',\r\n",
        "            'free sulfur dioxide','total sulfur dioxide','density','pH','sulphates','alcohol']\r\n",
        "for t in features:\r\n",
        "  fig = plt.figure(figsize = (10,6))\r\n",
        "  sns.barplot(x = 'quality', y = t, data = data)"
      ],
      "execution_count": 19,
      "outputs": [
        {
          "output_type": "display_data",
          "data": {
            "image/png": "[encoded data removed]",
            "text/plain": [
              "<Figure size 720x432 with 1 Axes>"
            ]
          },
          "metadata": {
            "tags": [],
            "needs_background": "light"
          }
        },
        {
          "output_type": "display_data",
          "data": {
            "image/png": "[encoded data removed]",
            "text/plain": [
              "<Figure size 720x432 with 1 Axes>"
            ]
          },
          "metadata": {
            "tags": [],
            "needs_background": "light"
          }
        },
        {
          "output_type": "display_data",
          "data": {
            "image/png": "[encoded data removed]",
            "text/plain": [
              "<Figure size 720x432 with 1 Axes>"
            ]
          },
          "metadata": {
            "tags": [],
            "needs_background": "light"
          }
        },
        {
          "output_type": "display_data",
          "data": {
            "image/png": "[encoded data removed]",
            "text/plain": [
              "<Figure size 720x432 with 1 Axes>"
            ]
          },
          "metadata": {
            "tags": [],
            "needs_background": "light"
          }
        },
        {
          "output_type": "display_data",
          "data": {
            "image/png": "[encoded data removed]",
            "text/plain": [
              "<Figure size 720x432 with 1 Axes>"
            ]
          },
          "metadata": {
            "tags": [],
            "needs_background": "light"
          }
        },
        {
          "output_type": "display_data",
          "data": {
            "image/png": "[encoded data removed]",
            "text/plain": [
              "<Figure size 720x432 with 1 Axes>"
            ]
          },
          "metadata": {
            "tags": [],
            "needs_background": "light"
          }
        },
        {
          "output_type": "display_data",
          "data": {
            "image/png": "[encoded data removed]",
            "text/plain": [
              "<Figure size 720x432 with 1 Axes>"
            ]
          },
          "metadata": {
            "tags": [],
            "needs_background": "light"
          }
        },
        {
          "output_type": "display_data",
          "data": {
            "image/png": "[encoded data removed]",
            "text/plain": [
              "<Figure size 720x432 with 1 Axes>"
            ]
          },
          "metadata": {
            "tags": [],
            "needs_background": "light"
          }
        },
        {
          "output_type": "display_data",
          "data": {
            "image/png": "[encoded data removed]",
            "text/plain": [
              "<Figure size 720x432 with 1 Axes>"
            ]
          },
          "metadata": {
            "tags": [],
            "needs_background": "light"
          }
        },
        {
          "output_type": "display_data",
          "data": {
            "image/png": "[encoded data removed]",
            "text/plain": [
              "<Figure size 720x432 with 1 Axes>"
            ]
          },
          "metadata": {
            "tags": [],
            "needs_background": "light"
          }
        },
        {
          "output_type": "display_data",
          "data": {
            "image/png": "[encoded data removed]",
            "text/plain": [
              "<Figure size 720x432 with 1 Axes>"
            ]
          },
          "metadata": {
            "tags": [],
            "needs_background": "light"
          }
        }
      ]
    },
    {
      "cell_type": "markdown",
      "metadata": {
        "id": "crwMMxZZ8L6Q"
      },
      "source": [
        "Clearly, from the above graphs plots we can conclude that:\r\n",
        "1. fixed acidity does not give any specification to classify the quality\r\n",
        "2. its quite a downing trend in the volatile acidity as we go higher the quality \r\n",
        "3. Composition of citric acid go higher as we go higher in the quality of the wine\r\n",
        "4. Composition of chloride also go down as we go higher in the quality of the wine\r\n",
        "5. Sulphates level goes higher with the quality of wine\r\n",
        "6. Alcohol level also goes higher as the quality of wine increases\r\n"
      ]
    },
    {
      "cell_type": "markdown",
      "metadata": {
        "id": "BIiZPjRuJfha"
      },
      "source": [
        "## **Preprocessing Data for performing Machine learning algorithms**"
      ]
    },
    {
      "cell_type": "code",
      "metadata": {
        "id": "tmzwq6oY7tu9"
      },
      "source": [
        "#Making binary classificaion for the response variable.\r\n",
        "#Dividing wine as good and bad by giving the limit for the quality\r\n",
        "bins = (2, 6.5, 8)\r\n",
        "group_names = ['bad', 'good'] \r\n",
        "data['quality'] = pd.cut(data['quality'], bins = bins, labels = group_names)"
      ],
      "execution_count": 20,
      "outputs": []
    },
    {
      "cell_type": "code",
      "metadata": {
        "id": "Zb1x-o-90h3d"
      },
      "source": [
        "#Now lets assign a labels to our quality variable\r\n",
        "label_quality = LabelEncoder()"
      ],
      "execution_count": 21,
      "outputs": []
    },
    {
      "cell_type": "code",
      "metadata": {
        "id": "7zDEeaB60ltY"
      },
      "source": [
        "data['quality'] = label_quality.fit_transform(data['quality'])"
      ],
      "execution_count": 22,
      "outputs": []
    },
    {
      "cell_type": "code",
      "metadata": {
        "colab": {
          "base_uri": "https://localhost:8080/"
        },
        "id": "cumgY1ce27hQ",
        "outputId": "8f50d6bf-154d-4070-d699-3b9c05457fb6"
      },
      "source": [
        "data['quality'].value_counts()"
      ],
      "execution_count": 23,
      "outputs": [
        {
          "output_type": "execute_result",
          "data": {
            "text/plain": [
              "0    1382\n",
              "1     217\n",
              "Name: quality, dtype: int64"
            ]
          },
          "metadata": {
            "tags": []
          },
          "execution_count": 23
        }
      ]
    },
    {
      "cell_type": "code",
      "metadata": {
        "colab": {
          "base_uri": "https://localhost:8080/",
          "height": 0
        },
        "id": "G4tcar8g3A8e",
        "outputId": "ed01eaba-8c22-4974-efcd-eacbef8236ee"
      },
      "source": [
        "sns.countplot(data['quality'])"
      ],
      "execution_count": 24,
      "outputs": [
        {
          "output_type": "stream",
          "text": [
            "/usr/local/lib/python3.6/dist-packages/seaborn/_decorators.py:43: FutureWarning: Pass the following variable as a keyword arg: x. From version 0.12, the only valid positional argument will be `data`, and passing other arguments without an explicit keyword will result in an error or misinterpretation.\n",
            "  FutureWarning\n"
          ],
          "name": "stderr"
        },
        {
          "output_type": "execute_result",
          "data": {
            "text/plain": [
              "<matplotlib.axes._subplots.AxesSubplot at 0x7f29d969df60>"
            ]
          },
          "metadata": {
            "tags": []
          },
          "execution_count": 24
        },
        {
          "output_type": "display_data",
          "data": {
            "image/png": "[encoded data removed]",
            "text/plain": [
              "<Figure size 432x288 with 1 Axes>"
            ]
          },
          "metadata": {
            "tags": [],
            "needs_background": "light"
          }
        }
      ]
    },
    {
      "cell_type": "code",
      "metadata": {
        "id": "vEm7ROz03FGl"
      },
      "source": [
        "#Now seperate the dataset as response variable and feature variabes\r\n",
        "X = data.drop('quality', axis = 1)\r\n",
        "y = data['quality']"
      ],
      "execution_count": 25,
      "outputs": []
    },
    {
      "cell_type": "code",
      "metadata": {
        "id": "BWwOsOsY3isL"
      },
      "source": [
        "#Train and Test splitting of data \r\n",
        "X_train, X_test, y_train, y_test = train_test_split(X, y, test_size = 0.2, random_state = 42)"
      ],
      "execution_count": 26,
      "outputs": []
    },
    {
      "cell_type": "code",
      "metadata": {
        "id": "r1NBW3Oi3pJB"
      },
      "source": [
        "#Applying Standard scaling to get optimized result\r\n",
        "sc = StandardScaler()"
      ],
      "execution_count": 27,
      "outputs": []
    },
    {
      "cell_type": "code",
      "metadata": {
        "id": "QkHKNWM93v48"
      },
      "source": [
        "X_train = sc.fit_transform(X_train)\r\n",
        "X_test = sc.fit_transform(X_test)"
      ],
      "execution_count": 28,
      "outputs": []
    },
    {
      "cell_type": "markdown",
      "metadata": {
        "id": "OutdvnO84hxK"
      },
      "source": [
        "## Stochastic Gradient Decent Classifier"
      ]
    },
    {
      "cell_type": "code",
      "metadata": {
        "id": "04mN5wtV3y6Z"
      },
      "source": [
        "sgd = SGDClassifier(penalty=None)\r\n",
        "sgd.fit(X_train, y_train)\r\n",
        "pred_sgd = sgd.predict(X_test)"
      ],
      "execution_count": 29,
      "outputs": []
    },
    {
      "cell_type": "code",
      "metadata": {
        "colab": {
          "base_uri": "https://localhost:8080/"
        },
        "id": "IS2GuQI04oRD",
        "outputId": "0d78e286-3835-46de-bc63-cb0b13af096e"
      },
      "source": [
        "print(classification_report(y_test, pred_sgd))"
      ],
      "execution_count": 30,
      "outputs": [
        {
          "output_type": "stream",
          "text": [
            "              precision    recall  f1-score   support\n",
            "\n",
            "           0       0.90      0.89      0.90       273\n",
            "           1       0.42      0.45      0.43        47\n",
            "\n",
            "    accuracy                           0.83       320\n",
            "   macro avg       0.66      0.67      0.67       320\n",
            "weighted avg       0.83      0.83      0.83       320\n",
            "\n"
          ],
          "name": "stdout"
        }
      ]
    },
    {
      "cell_type": "markdown",
      "metadata": {
        "id": "ouYqmoSk7YrZ"
      },
      "source": [
        "Accuracy is 84%"
      ]
    },
    {
      "cell_type": "code",
      "metadata": {
        "colab": {
          "base_uri": "https://localhost:8080/"
        },
        "id": "FkiKyy4N4xaU",
        "outputId": "c9b892d5-8d46-4451-8385-295fe247b6f7"
      },
      "source": [
        "print(confusion_matrix(y_test, pred_sgd))"
      ],
      "execution_count": 31,
      "outputs": [
        {
          "output_type": "stream",
          "text": [
            "[[244  29]\n",
            " [ 26  21]]\n"
          ],
          "name": "stdout"
        }
      ]
    },
    {
      "cell_type": "markdown",
      "metadata": {
        "id": "2IZc5uRG8JWW"
      },
      "source": [
        "# Support Vector Classifier"
      ]
    },
    {
      "cell_type": "code",
      "metadata": {
        "id": "462sDNNq8KsF"
      },
      "source": [
        "svc = SVC()\r\n",
        "svc.fit(X_train, y_train)\r\n",
        "pred_svc = svc.predict(X_test)"
      ],
      "execution_count": 32,
      "outputs": []
    },
    {
      "cell_type": "code",
      "metadata": {
        "colab": {
          "base_uri": "https://localhost:8080/"
        },
        "id": "fyP5YCua8NOM",
        "outputId": "755d6d9d-4ce9-439f-f2dd-ac6b020447bc"
      },
      "source": [
        "print(classification_report(y_test, pred_svc))"
      ],
      "execution_count": 33,
      "outputs": [
        {
          "output_type": "stream",
          "text": [
            "              precision    recall  f1-score   support\n",
            "\n",
            "           0       0.88      0.98      0.93       273\n",
            "           1       0.71      0.26      0.37        47\n",
            "\n",
            "    accuracy                           0.88       320\n",
            "   macro avg       0.80      0.62      0.65       320\n",
            "weighted avg       0.86      0.88      0.85       320\n",
            "\n"
          ],
          "name": "stdout"
        }
      ]
    },
    {
      "cell_type": "markdown",
      "metadata": {
        "id": "6-6n5p_S8_iX"
      },
      "source": [
        "Support vector classifier gets 86%"
      ]
    },
    {
      "cell_type": "markdown",
      "metadata": {
        "id": "EOllRdZu-l0X"
      },
      "source": [
        "# Let's try to increase our accuracy of models\r\n",
        "**Grid Search CV**"
      ]
    },
    {
      "cell_type": "code",
      "metadata": {
        "id": "NwJxwjbO86__"
      },
      "source": [
        "#Finding best parameters for our SVC model\r\n",
        "param = {\r\n",
        "    'C': [0.1,0.8,0.9,1,1.1,1.2,1.3,1.4], # hyperparameters\r\n",
        "    'kernel':['linear', 'rbf'],\r\n",
        "    'gamma' :[0.1,0.8,0.9,1,1.1,1.2,1.3,1.4] # hyperparameters\r\n",
        "}\r\n",
        "grid_svc = GridSearchCV(svc, param_grid=param, scoring='accuracy', cv=10)"
      ],
      "execution_count": 34,
      "outputs": []
    },
    {
      "cell_type": "code",
      "metadata": {
        "colab": {
          "base_uri": "https://localhost:8080/"
        },
        "id": "l7te327K-uuF",
        "outputId": "a0bf96fe-1b8e-4710-cccd-282fe2c4053f"
      },
      "source": [
        "grid_svc.fit(X_train, y_train)"
      ],
      "execution_count": 35,
      "outputs": [
        {
          "output_type": "execute_result",
          "data": {
            "text/plain": [
              "GridSearchCV(cv=10, error_score=nan,\n",
              "             estimator=SVC(C=1.0, break_ties=False, cache_size=200,\n",
              "                           class_weight=None, coef0=0.0,\n",
              "                           decision_function_shape='ovr', degree=3,\n",
              "                           gamma='scale', kernel='rbf', max_iter=-1,\n",
              "                           probability=False, random_state=None, shrinking=True,\n",
              "                           tol=0.001, verbose=False),\n",
              "             iid='deprecated', n_jobs=None,\n",
              "             param_grid={'C': [0.1, 0.8, 0.9, 1, 1.1, 1.2, 1.3, 1.4],\n",
              "                         'gamma': [0.1, 0.8, 0.9, 1, 1.1, 1.2, 1.3, 1.4],\n",
              "                         'kernel': ['linear', 'rbf']},\n",
              "             pre_dispatch='2*n_jobs', refit=True, return_train_score=False,\n",
              "             scoring='accuracy', verbose=0)"
            ]
          },
          "metadata": {
            "tags": []
          },
          "execution_count": 35
        }
      ]
    },
    {
      "cell_type": "code",
      "metadata": {
        "colab": {
          "base_uri": "https://localhost:8080/"
        },
        "id": "V0UYcp8k-xPj",
        "outputId": "92378057-a086-4cff-d8d2-f904c063327a"
      },
      "source": [
        "#Best parameters for our svc model\r\n",
        "grid_svc.best_params_"
      ],
      "execution_count": 36,
      "outputs": [
        {
          "output_type": "execute_result",
          "data": {
            "text/plain": [
              "{'C': 1.2, 'gamma': 0.9, 'kernel': 'rbf'}"
            ]
          },
          "metadata": {
            "tags": []
          },
          "execution_count": 36
        }
      ]
    },
    {
      "cell_type": "code",
      "metadata": {
        "colab": {
          "base_uri": "https://localhost:8080/"
        },
        "id": "vGNfoFbl-59Z",
        "outputId": "0d3f6c8b-22b0-4ef8-94fd-1a7c41e4f25b"
      },
      "source": [
        "#Let's run our SVC again with the best parameters.\r\n",
        "svc2 = SVC(C = 1.2, gamma =  0.9, kernel= 'rbf')\r\n",
        "svc2.fit(X_train, y_train)\r\n",
        "pred_svc2 = svc2.predict(X_test)\r\n",
        "print(classification_report(y_test, pred_svc2))"
      ],
      "execution_count": 37,
      "outputs": [
        {
          "output_type": "stream",
          "text": [
            "              precision    recall  f1-score   support\n",
            "\n",
            "           0       0.90      0.99      0.94       273\n",
            "           1       0.89      0.34      0.49        47\n",
            "\n",
            "    accuracy                           0.90       320\n",
            "   macro avg       0.89      0.67      0.72       320\n",
            "weighted avg       0.90      0.90      0.88       320\n",
            "\n"
          ],
          "name": "stdout"
        }
      ]
    },
    {
      "cell_type": "markdown",
      "metadata": {
        "id": "9clMqbhO_BBS"
      },
      "source": [
        "SVC improves from 86% to 90% using Grid Search CV"
      ]
    }
  ]
}